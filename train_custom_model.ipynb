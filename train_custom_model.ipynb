{
 "cells": [
  {
   "cell_type": "markdown",
   "metadata": {},
   "source": [
    "[![Open In Studio Lab](https://studiolab.sagemaker.aws/studiolab.svg)](https://studiolab.sagemaker.aws/import/github/machinelearnear/custom-segmentation-model-with-icevision-openimages/blob/main/train_custom_model.ipynb)"
   ]
  },
  {
   "cell_type": "markdown",
   "metadata": {
    "id": "NILfEteBKMs_"
   },
   "source": [
    "# Train Custom Image Segmentation Model with `IceVision` and `OpenImages`\n",
    "- www.machinelearne.ar"
   ]
  },
  {
   "cell_type": "markdown",
   "metadata": {
    "id": "LZIXs_CEKYJR"
   },
   "source": [
    "## Import dependencies"
   ]
  },
  {
   "cell_type": "code",
   "execution_count": 2,
   "metadata": {
    "id": "MG9yhOzdhxHc"
   },
   "outputs": [],
   "source": [
    "from openimages.download import download_segmentation_dataset"
   ]
  },
  {
   "cell_type": "code",
   "execution_count": null,
   "metadata": {},
   "outputs": [],
   "source": [
    "import imantics\n",
    "\n",
    "from PIL import Image\n",
    "from icevision.all import *"
   ]
  },
  {
   "cell_type": "markdown",
   "metadata": {
    "id": "SRFjuY6EKpGh"
   },
   "source": [
    "## Download annotations from `OpenImages`\n",
    "Source: https://storage.googleapis.com/openimages/web/index.html\n",
    "\n",
    "> Open Images is a dataset of ~9M images annotated with image-level labels, object bounding boxes, object segmentation masks, visual relationships, and localized narratives:\n",
    ">\n",
    "> It contains a total of 16M bounding boxes for 600 object classes on 1.9M images, making it the largest existing dataset with object location annotations. The boxes have been largely manually drawn by professional annotators to ensure accuracy and consistency. The images are very diverse and often contain complex scenes with several objects (8.3 per image on average).\n",
    "Open Images also offers visual relationship annotations, indicating pairs of objects in particular relations (e.g. \"woman playing guitar\", \"beer on table\"), object properties (e.g. \"table is wooden\"), and human actions (e.g. \"woman is jumping\"). In total it has 3.3M annotations from 1,466 distinct relationship triplets.\n",
    "In V5 we added segmentation masks for 2.8M object instances in 350 classes. Segmentation masks mark the outline of objects, which characterizes their spatial extent to a much higher level of detail.\n",
    "In V6 we added 675k localized narratives: multimodal descriptions of images consisting of synchronized voice, text, and mouse traces over the objects being described. (Note we originally launched localized narratives only on train in V6, but since July 2020 we also have validation and test covered.)\n",
    "Finally, the dataset is annotated with 59.9M image-level labels spanning 19,957 classes."
   ]
  },
  {
   "cell_type": "code",
   "execution_count": null,
   "metadata": {},
   "outputs": [],
   "source": []
  },
  {
   "cell_type": "code",
   "execution_count": null,
   "metadata": {
    "colab": {
     "base_uri": "https://localhost:8080/"
    },
    "id": "7FPCoF8wU_59",
    "outputId": "4195c181-5607-4866-be79-bfe321edae5d"
   },
   "outputs": [],
   "source": [
    "download_segmentation_dataset(\n",
    "    dest_dir=\"anno\", \n",
    "    class_labels=[\"Hot dog\",], \n",
    "    annotation_format=\"pascal\",\n",
    "    meta_dir=\"csv_anno\")"
   ]
  },
  {
   "cell_type": "markdown",
   "metadata": {
    "id": "IT9BOpVRVAqx"
   },
   "source": [
    "## Create COCO Segmentation Dataset and COCO `annotation.json`"
   ]
  },
  {
   "cell_type": "code",
   "execution_count": null,
   "metadata": {
    "id": "Z6UrUDwdSqH9"
   },
   "outputs": [],
   "source": [
    "data_dir = Path('anno/hot dog')\n",
    "\n",
    "images_dir = data_dir / 'images'\n",
    "annotations_dir = data_dir / 'pascal'\n",
    "segmentations_dir = data_dir / 'segmentations'"
   ]
  },
  {
   "cell_type": "code",
   "execution_count": null,
   "metadata": {
    "id": "43NfuDBUSw8_"
   },
   "outputs": [],
   "source": [
    "list_of_images = [x for x in images_dir.rglob('*.jpg')]\n",
    "list_of_segmentations = [x for x in segmentations_dir.rglob('*.png')]"
   ]
  },
  {
   "cell_type": "markdown",
   "metadata": {
    "id": "vpT3MpYwzgOa"
   },
   "source": [
    "Use the following custom function to generate `annotations.json` from your images + segmentation masks. Follow this article to get a better understanding of how `COCO` is structured: https://www.immersivelimit.com/tutorials/create-coco-annotations-from-scratch/#coco-dataset-format"
   ]
  },
  {
   "cell_type": "code",
   "execution_count": null,
   "metadata": {
    "id": "doHC84CSUKwo"
   },
   "outputs": [],
   "source": [
    "def create_coco_annotation_json(\n",
    "    list_of_images: List[Path], \n",
    "    list_of_segmentations: List[Path],\n",
    "    class_map: str = 'hot dog',\n",
    "    path_to_output_json: str = 'annotation.json') -> Dict:\n",
    "    \"\"\"\n",
    "    Source: www.machinelearne.ar\n",
    "    Generates a COCO annotated json that maps images with segmentation masks\n",
    "    :param images_dir: list of images \n",
    "    :param segmentations_dir: list of segmentations masks\n",
    "    :param path_to_output_json: map images with segmentations into json\n",
    "    \"\"\"\n",
    "    from datetime import date\n",
    "    import json\n",
    "\n",
    "    # create coco dict\n",
    "    coco_segm_dict = defaultdict(list, { str(k):[] for k in list_of_images })\n",
    "    for img in list_of_images:\n",
    "        for mask in list_of_segmentations:\n",
    "            if img.stem in str(mask): coco_segm_dict[str(img)].append(str(mask))\n",
    "\n",
    "    # create base json\n",
    "    coco = {\n",
    "        \"info\": {\n",
    "            \"description\": \"Custom COCO Dataset\",\n",
    "            \"url\": \"http://cocodataset.org\",\n",
    "            \"version\": \"1.0\",\n",
    "            \"year\": 2020,\n",
    "            \"contributor\": \"www.machinelearne.ar\",\n",
    "            \"date_created\": date.today().strftime(\"%d/%m/%Y\")},\n",
    "        \"images\": [],\n",
    "        \"annotations\": [],\n",
    "        \"categories\": [],\n",
    "        }\n",
    "\n",
    "    # merge images with segmentations and create json\n",
    "    annotations=[]\n",
    "    images=[]\n",
    "    segm_id = 0\n",
    "    for id, (img,masks) in enumerate(list(coco_segm_dict.items())):\n",
    "        image = imantics.Image.from_path(img)\n",
    "        for x in masks:\n",
    "            array = np.asarray(Image.open(x).resize(image.size))\n",
    "            image.add(imantics.Mask(array), category=imantics.Category(class_map))\n",
    "            image.id = id\n",
    "            coco_json = image.export(style='coco')\n",
    "            annotation = coco_json['annotations'][0]\n",
    "            annotation['id'] = segm_id\n",
    "            annotations.append(coco_json['annotations'][0])\n",
    "            segm_id += 1\n",
    "        images.append(coco_json['images'][0])\n",
    "    # add to json and save to disk\n",
    "    coco['categories'] = coco_json['categories']\n",
    "    coco['annotations'] = annotations\n",
    "    coco['images'] = images\n",
    "\n",
    "    with open(path_to_output_json, 'w') as f:\n",
    "        json.dump(coco, f)\n",
    "\n",
    "    print(f\"Done! File was saved to '{Path.cwd()}/{(path_to_output_json)}'\")\n",
    "    return coco"
   ]
  },
  {
   "cell_type": "code",
   "execution_count": null,
   "metadata": {
    "colab": {
     "base_uri": "https://localhost:8080/"
    },
    "id": "6rhCig7p0x8u",
    "outputId": "57b5731d-ac5e-457f-8fc0-5775a3a9416c"
   },
   "outputs": [],
   "source": [
    "coco_json = create_coco_annotation_json(list_of_images, list_of_segmentations)"
   ]
  },
  {
   "cell_type": "markdown",
   "metadata": {
    "id": "5-diUWqGLyyB"
   },
   "source": [
    "## Parse, load data, and preview"
   ]
  },
  {
   "cell_type": "code",
   "execution_count": null,
   "metadata": {
    "id": "5jKYVKVUkkeU"
   },
   "outputs": [],
   "source": [
    "class_map = ClassMap(['hot dog'])"
   ]
  },
  {
   "cell_type": "code",
   "execution_count": null,
   "metadata": {
    "id": "sVpMJRPnxZi1"
   },
   "outputs": [],
   "source": [
    "parser = parsers.COCOMaskParser(\n",
    "    annotations_filepath='annotation.json', img_dir=images_dir)"
   ]
  },
  {
   "cell_type": "code",
   "execution_count": null,
   "metadata": {
    "colab": {
     "base_uri": "https://localhost:8080/",
     "height": 66,
     "referenced_widgets": [
      "c9bb2f0f86b84b5ba69379bad9d69752",
      "1932d73cf077411d9a9686289b289e70",
      "bdcb7ae7c3944de9a1be811b93a8ceb2",
      "b98b3b1d326f4686a11887d34977d453",
      "0ebba38a50ba4929a4feb69e21e0fb2c",
      "f9ed68d46079433aa7f04f936789187f",
      "1faac9767e9040bc8cf88bc40bd86f4f",
      "70db3704ae8c4af0a30b98e17428b082",
      "d617f55c2e924cfba55fb9c71b7e92a2",
      "9602a55f1f654083be1f11aaaa63c870",
      "4faea2c0ba9d4fd394e253cabfa3d018"
     ]
    },
    "id": "NYqi6NtypjiZ",
    "outputId": "fb25b5f5-9829-4c4f-d27e-809d3015e65e"
   },
   "outputs": [],
   "source": [
    "train_records, valid_records = parser.parse()"
   ]
  },
  {
   "cell_type": "code",
   "execution_count": null,
   "metadata": {
    "colab": {
     "base_uri": "https://localhost:8080/",
     "height": 527
    },
    "id": "Ue4WNObVp0Tb",
    "outputId": "2b15ff24-2d0f-417e-8594-14948b4d29eb"
   },
   "outputs": [],
   "source": [
    "show_records(train_records[:3], ncols=3, class_map=class_map)"
   ]
  },
  {
   "cell_type": "markdown",
   "metadata": {
    "id": "98o-vNOAO7F4"
   },
   "source": [
    "## (`Optional`) Train with PyTorch Lighting"
   ]
  },
  {
   "cell_type": "code",
   "execution_count": null,
   "metadata": {
    "id": "qZSSTevvNTBK"
   },
   "outputs": [],
   "source": [
    "# train_records, valid_records = parser.parse()\n",
    "\n",
    "# # Define the transforms and create the Datasets\n",
    "# presize = 512\n",
    "# size = 384\n",
    "# shift_scale_rotate = tfms.A.ShiftScaleRotate(rotate_limit=10)\n",
    "# crop_fn = partial(tfms.A.RandomSizedCrop, min_max_height=(size // 2, size), p=0.5)\n",
    "# train_tfms = tfms.A.Adapter(\n",
    "#     [\n",
    "#         *tfms.A.aug_tfms(\n",
    "#             size=size,\n",
    "#             presize=presize,\n",
    "#             shift_scale_rotate=shift_scale_rotate,\n",
    "#             crop_fn=crop_fn,\n",
    "#         ),\n",
    "#         tfms.A.Normalize(),\n",
    "#     ]\n",
    "# )\n",
    "# valid_tfms = tfms.A.Adapter([*tfms.A.resize_and_pad(size=size), tfms.A.Normalize()])\n",
    "# train_ds = Dataset(train_records, train_tfms)\n",
    "# valid_ds = Dataset(valid_records, valid_tfms)\n",
    "\n",
    "# # Shows how the transforms affects a single sample\n",
    "# samples = [train_ds[0] for _ in range(6)]\n",
    "# show_samples(\n",
    "#     samples, denormalize_fn=denormalize_imagenet, ncols=3, display_label=False, show=True\n",
    "# )\n",
    "\n",
    "# # Create DataLoaders\n",
    "# train_dl = mask_rcnn.train_dl(train_ds, batch_size=16, shuffle=True, num_workers=4)\n",
    "# valid_dl = mask_rcnn.valid_dl(valid_ds, batch_size=16, shuffle=False, num_workers=4)\n",
    "\n",
    "# # Define metrics for the model\n",
    "# # TODO: Currently broken for Mask RCNN\n",
    "# # metrics = [COCOMetric(COCOMetricType.mask)]\n",
    "\n",
    "# # Create model\n",
    "# model = mask_rcnn.model(num_classes=len(class_map))\n",
    "\n",
    "# # Train using pytorch-lightning\n",
    "# class LightModel(faster_rcnn.lightning.ModelAdapter):\n",
    "#     def configure_optimizers(self):\n",
    "#         return SGD(self.parameters(), lr=1e-4)\n",
    "\n",
    "# light_model = LightModel(model, metrics=metrics)\n",
    "\n",
    "# trainer = pl.Trainer(max_epochs=10, gpus=1)\n",
    "# trainer.fit(light_model, train_dl, valid_dl)\n",
    "\n",
    "# # BONUS: Use model for inference. In this case, let's take some images from valid_ds\n",
    "# # Take a look at `Dataset.from_images` if you want to predict from images in memory\n",
    "# samples = [valid_ds[i] for i in range(6)]\n",
    "# batch, samples = mask_rcnn.build_infer_batch(samples)\n",
    "# preds = mask_rcnn.predict(model=model, batch=batch)\n",
    "\n",
    "# imgs = [sample[\"img\"] for sample in samples]\n",
    "# show_preds(samples=imgs, preds=preds, denormalize_fn=denormalize_imagenet, ncols=3)"
   ]
  },
  {
   "cell_type": "markdown",
   "metadata": {
    "id": "ob3FU_qkPNbA"
   },
   "source": [
    "## Train with `FastAI`"
   ]
  },
  {
   "cell_type": "code",
   "execution_count": null,
   "metadata": {
    "colab": {
     "base_uri": "https://localhost:8080/",
     "height": 1000,
     "referenced_widgets": [
      "2053f4bf4ab9421c8959bf5dce5781ef",
      "e9a4ee01a8e1470e8b56b56d46d8e58f",
      "5d125c819f264b169680a05fdbf2a372",
      "9ee5669e440446c8a3af815ef1b7e8c4",
      "3f0d36d6af9d4a02a8e773910ebb29b3",
      "0f334b69675d4676ba0f46c408896a77",
      "987ae3202bbe45d693aaf45b28df79d9",
      "1bb8e530df7643b28fbfe1ed8c57bc2f",
      "2bb03d7a6f5e4dc0b9320c9bdd14cfce",
      "2b053ab98c304a37b674a7334b63fefd",
      "ffb7c573d9b444eb941de057c55ed864",
      "dc6c9bb8c13e45f6b702592df791fe41",
      "f6237a6554314baf9db2eb41b386fc7b",
      "6949a68124dc499d9fbfa753baf690b0",
      "bb9b6f96a06d48d2965c4614e0d61096",
      "8c0e739c324342dbac822b2e888ef273",
      "e0ae0518ad9a4579b7a14c0f4af5e795",
      "791fa67f05cd476fa1f9b1f5dbe5f695",
      "621277e62a6d4bca8c02820a76d8de0b",
      "e2df8e3354744d0e8be8590a408970b1",
      "61bfdaf3ce274547afcc5d8876c09db8",
      "0f57e787075348349704b9209cb2ba95"
     ]
    },
    "id": "RnuN-EcMPHiC",
    "outputId": "9cfe901d-81c0-4ba9-c40f-69217278b47d"
   },
   "outputs": [],
   "source": [
    "# Parse records with random splits\n",
    "train_records, valid_records = parser.parse()\n",
    "\n",
    "# Define the transforms and create the Datasets\n",
    "presize = 512\n",
    "size = 384\n",
    "shift_scale_rotate = tfms.A.ShiftScaleRotate(rotate_limit=10)\n",
    "crop_fn = partial(tfms.A.RandomSizedCrop, min_max_height=(size // 2, size), p=0.5)\n",
    "train_tfms = tfms.A.Adapter(\n",
    "    [\n",
    "        *tfms.A.aug_tfms(\n",
    "            size=size,\n",
    "            presize=presize,\n",
    "            shift_scale_rotate=shift_scale_rotate,\n",
    "            crop_fn=crop_fn,\n",
    "        ),\n",
    "        tfms.A.Normalize(),\n",
    "    ]\n",
    ")\n",
    "valid_tfms = tfms.A.Adapter([*tfms.A.resize_and_pad(size=size), tfms.A.Normalize()])\n",
    "train_ds = Dataset(train_records, train_tfms)\n",
    "valid_ds = Dataset(valid_records, valid_tfms)\n",
    "\n",
    "# Shows how the transforms affects a single sample\n",
    "samples = [train_ds[0] for _ in range(6)]\n",
    "show_samples(\n",
    "    samples, denormalize_fn=denormalize_imagenet, ncols=3, display_label=False, show=True\n",
    ")\n",
    "\n",
    "# Create DataLoaders\n",
    "train_dl = mask_rcnn.train_dl(train_ds, batch_size=16, shuffle=True, num_workers=4)\n",
    "valid_dl = mask_rcnn.valid_dl(valid_ds, batch_size=16, shuffle=False, num_workers=4)\n",
    "\n",
    "# Define metrics for the model\n",
    "# TODO: Currently broken for Mask RCNN\n",
    "# metrics = [COCOMetric(COCOMetricType.mask)]\n",
    "\n",
    "# Create model\n",
    "model = mask_rcnn.model(num_classes=len(class_map))\n",
    "\n",
    "# Create Fastai Learner and train the model\n",
    "learn = mask_rcnn.fastai.learner(dls=[train_dl, valid_dl], model=model)\n",
    "learn.fine_tune(20, 5e-4, freeze_epochs=2)\n",
    "\n",
    "# BONUS: Use model for inference. In this case, let's take some images from valid_ds\n",
    "# Take a look at `Dataset.from_images` if you want to predict from images in memory\n",
    "samples = [valid_ds[i] for i in range(6)]\n",
    "batch, samples = mask_rcnn.build_infer_batch(samples)\n",
    "preds = mask_rcnn.predict(model=model, batch=batch)\n",
    "\n",
    "imgs = [sample[\"img\"] for sample in samples]\n",
    "show_preds(samples=imgs, preds=preds, denormalize_fn=denormalize_imagenet, ncols=3, class_map=class_map)"
   ]
  },
  {
   "cell_type": "markdown",
   "metadata": {
    "id": "MZaZz2KQo2Dq"
   },
   "source": [
    "## Save model to `Google Drive`"
   ]
  },
  {
   "cell_type": "code",
   "execution_count": null,
   "metadata": {
    "colab": {
     "base_uri": "https://localhost:8080/"
    },
    "id": "p_EQGO35o0f2",
    "outputId": "d58fa612-184b-4b5e-d9dd-3db7845679fa"
   },
   "outputs": [],
   "source": [
    "from google.colab import drive\n",
    "drive.mount('/content/gdrive', force_remount=True)\n",
    "root_dir = Path('/content/gdrive/MyDrive/')"
   ]
  },
  {
   "cell_type": "code",
   "execution_count": null,
   "metadata": {
    "id": "gAsdp0g3o8KB"
   },
   "outputs": [],
   "source": [
    "fname = root_dir/'icevision/models/chori/chori_maskrcnn.pth'\n",
    "fname.parent.mkdir(parents=True, exist_ok=True)"
   ]
  },
  {
   "cell_type": "code",
   "execution_count": null,
   "metadata": {
    "id": "FkQ6vRsdo9yo"
   },
   "outputs": [],
   "source": [
    "torch.save(model.state_dict(), fname)"
   ]
  },
  {
   "cell_type": "markdown",
   "metadata": {
    "id": "_0rvbzjgZXNs"
   },
   "source": [
    "## Run inference on a single image with `FastAI`"
   ]
  },
  {
   "cell_type": "code",
   "execution_count": null,
   "metadata": {
    "id": "X2j4X5YlHq8y"
   },
   "outputs": [],
   "source": [
    "import PIL, requests\n",
    "def image_from_url(url):\n",
    "    res = requests.get(url, stream=True)\n",
    "    img = PIL.Image.open(res.raw)\n",
    "    return np.array(img)"
   ]
  },
  {
   "cell_type": "code",
   "execution_count": null,
   "metadata": {
    "colab": {
     "base_uri": "https://localhost:8080/",
     "height": 248
    },
    "id": "rVQUHaSDHqz9",
    "outputId": "13eb4001-67c8-4496-f1c7-b76965de21b3"
   },
   "outputs": [],
   "source": [
    "image_url = \"https://s32020.pcdn.co/wp-content/uploads/2020/06/Choripan-e1593021143177.jpeg.optimal.jpeg\"\n",
    "# image_url = 'https://www.babeldigital.com.ar/data/img_cont/img_imagenes/img_gr/7547.jpg'\n",
    "img = image_from_url(image_url)\n",
    "show_img(img);"
   ]
  },
  {
   "cell_type": "code",
   "execution_count": null,
   "metadata": {
    "id": "xkExOrflHqe3"
   },
   "outputs": [],
   "source": [
    "infer_tfms = tfms.A.Adapter([*tfms.A.resize_and_pad(size=384), tfms.A.Normalize()])\n",
    "infer_ds = Dataset.from_images([img], infer_tfms)"
   ]
  },
  {
   "cell_type": "code",
   "execution_count": null,
   "metadata": {
    "colab": {
     "base_uri": "https://localhost:8080/",
     "height": 873
    },
    "id": "1qLgQxM6JYh4",
    "outputId": "11c469f3-d390-4d52-c58a-55dca3c529e3"
   },
   "outputs": [],
   "source": [
    "batch, samples = mask_rcnn.build_infer_batch(infer_ds)\n",
    "preds = mask_rcnn.predict(model=model, batch=batch)\n",
    "class_map = ClassMap(['choripan'])\n",
    "\n",
    "# Show preds by grabbing the images from `samples`\n",
    "imgs = [sample[\"img\"] for sample in samples]\n",
    "show_preds(\n",
    "    samples=imgs,\n",
    "    preds=preds,\n",
    "    class_map=class_map,\n",
    "    denormalize_fn=denormalize_imagenet,\n",
    "    show=True,\n",
    ")"
   ]
  }
 ],
 "metadata": {
  "accelerator": "GPU",
  "colab": {
   "authorship_tag": "ABX9TyNoj2ahyfGYNTId7anaFQa7",
   "collapsed_sections": [
    "98o-vNOAO7F4"
   ],
   "include_colab_link": true,
   "name": "train_custom_segmentation_model_with_icevision_openimages",
   "provenance": []
  },
  "kernelspec": {
   "display_name": "machinelearnear-icevision-openimages:Python",
   "language": "python",
   "name": "conda-env-machinelearnear-icevision-openimages-py"
  },
  "language_info": {
   "codemirror_mode": {
    "name": "ipython",
    "version": 3
   },
   "file_extension": ".py",
   "mimetype": "text/x-python",
   "name": "python",
   "nbconvert_exporter": "python",
   "pygments_lexer": "ipython3",
   "version": "3.8.12"
  },
  "widgets": {
   "application/vnd.jupyter.widget-state+json": {
    "0ebba38a50ba4929a4feb69e21e0fb2c": {
     "model_module": "@jupyter-widgets/controls",
     "model_name": "HTMLModel",
     "state": {
      "_dom_classes": [],
      "_model_module": "@jupyter-widgets/controls",
      "_model_module_version": "1.5.0",
      "_model_name": "HTMLModel",
      "_view_count": null,
      "_view_module": "@jupyter-widgets/controls",
      "_view_module_version": "1.5.0",
      "_view_name": "HTMLView",
      "description": "",
      "description_tooltip": null,
      "layout": "IPY_MODEL_4faea2c0ba9d4fd394e253cabfa3d018",
      "placeholder": "​",
      "style": "IPY_MODEL_9602a55f1f654083be1f11aaaa63c870",
      "value": " 99/99 [00:00&lt;00:00, 1102.13it/s]"
     }
    },
    "0f334b69675d4676ba0f46c408896a77": {
     "model_module": "@jupyter-widgets/controls",
     "model_name": "DescriptionStyleModel",
     "state": {
      "_model_module": "@jupyter-widgets/controls",
      "_model_module_version": "1.5.0",
      "_model_name": "DescriptionStyleModel",
      "_view_count": null,
      "_view_module": "@jupyter-widgets/base",
      "_view_module_version": "1.2.0",
      "_view_name": "StyleView",
      "description_width": ""
     }
    },
    "0f57e787075348349704b9209cb2ba95": {
     "model_module": "@jupyter-widgets/base",
     "model_name": "LayoutModel",
     "state": {
      "_model_module": "@jupyter-widgets/base",
      "_model_module_version": "1.2.0",
      "_model_name": "LayoutModel",
      "_view_count": null,
      "_view_module": "@jupyter-widgets/base",
      "_view_module_version": "1.2.0",
      "_view_name": "LayoutView",
      "align_content": null,
      "align_items": null,
      "align_self": null,
      "border": null,
      "bottom": null,
      "display": null,
      "flex": null,
      "flex_flow": null,
      "grid_area": null,
      "grid_auto_columns": null,
      "grid_auto_flow": null,
      "grid_auto_rows": null,
      "grid_column": null,
      "grid_gap": null,
      "grid_row": null,
      "grid_template_areas": null,
      "grid_template_columns": null,
      "grid_template_rows": null,
      "height": null,
      "justify_content": null,
      "justify_items": null,
      "left": null,
      "margin": null,
      "max_height": null,
      "max_width": null,
      "min_height": null,
      "min_width": null,
      "object_fit": null,
      "object_position": null,
      "order": null,
      "overflow": null,
      "overflow_x": null,
      "overflow_y": null,
      "padding": null,
      "right": null,
      "top": null,
      "visibility": null,
      "width": null
     }
    },
    "1932d73cf077411d9a9686289b289e70": {
     "model_module": "@jupyter-widgets/base",
     "model_name": "LayoutModel",
     "state": {
      "_model_module": "@jupyter-widgets/base",
      "_model_module_version": "1.2.0",
      "_model_name": "LayoutModel",
      "_view_count": null,
      "_view_module": "@jupyter-widgets/base",
      "_view_module_version": "1.2.0",
      "_view_name": "LayoutView",
      "align_content": null,
      "align_items": null,
      "align_self": null,
      "border": null,
      "bottom": null,
      "display": null,
      "flex": null,
      "flex_flow": null,
      "grid_area": null,
      "grid_auto_columns": null,
      "grid_auto_flow": null,
      "grid_auto_rows": null,
      "grid_column": null,
      "grid_gap": null,
      "grid_row": null,
      "grid_template_areas": null,
      "grid_template_columns": null,
      "grid_template_rows": null,
      "height": null,
      "justify_content": null,
      "justify_items": null,
      "left": null,
      "margin": null,
      "max_height": null,
      "max_width": null,
      "min_height": null,
      "min_width": null,
      "object_fit": null,
      "object_position": null,
      "order": null,
      "overflow": null,
      "overflow_x": null,
      "overflow_y": null,
      "padding": null,
      "right": null,
      "top": null,
      "visibility": null,
      "width": null
     }
    },
    "1bb8e530df7643b28fbfe1ed8c57bc2f": {
     "model_module": "@jupyter-widgets/controls",
     "model_name": "ProgressStyleModel",
     "state": {
      "_model_module": "@jupyter-widgets/controls",
      "_model_module_version": "1.5.0",
      "_model_name": "ProgressStyleModel",
      "_view_count": null,
      "_view_module": "@jupyter-widgets/base",
      "_view_module_version": "1.2.0",
      "_view_name": "StyleView",
      "bar_color": null,
      "description_width": ""
     }
    },
    "1faac9767e9040bc8cf88bc40bd86f4f": {
     "model_module": "@jupyter-widgets/base",
     "model_name": "LayoutModel",
     "state": {
      "_model_module": "@jupyter-widgets/base",
      "_model_module_version": "1.2.0",
      "_model_name": "LayoutModel",
      "_view_count": null,
      "_view_module": "@jupyter-widgets/base",
      "_view_module_version": "1.2.0",
      "_view_name": "LayoutView",
      "align_content": null,
      "align_items": null,
      "align_self": null,
      "border": null,
      "bottom": null,
      "display": null,
      "flex": null,
      "flex_flow": null,
      "grid_area": null,
      "grid_auto_columns": null,
      "grid_auto_flow": null,
      "grid_auto_rows": null,
      "grid_column": null,
      "grid_gap": null,
      "grid_row": null,
      "grid_template_areas": null,
      "grid_template_columns": null,
      "grid_template_rows": null,
      "height": null,
      "justify_content": null,
      "justify_items": null,
      "left": null,
      "margin": null,
      "max_height": null,
      "max_width": null,
      "min_height": null,
      "min_width": null,
      "object_fit": null,
      "object_position": null,
      "order": null,
      "overflow": null,
      "overflow_x": null,
      "overflow_y": null,
      "padding": null,
      "right": null,
      "top": null,
      "visibility": null,
      "width": null
     }
    },
    "2053f4bf4ab9421c8959bf5dce5781ef": {
     "model_module": "@jupyter-widgets/controls",
     "model_name": "HBoxModel",
     "state": {
      "_dom_classes": [],
      "_model_module": "@jupyter-widgets/controls",
      "_model_module_version": "1.5.0",
      "_model_name": "HBoxModel",
      "_view_count": null,
      "_view_module": "@jupyter-widgets/controls",
      "_view_module_version": "1.5.0",
      "_view_name": "HBoxView",
      "box_style": "",
      "children": [
       "IPY_MODEL_5d125c819f264b169680a05fdbf2a372",
       "IPY_MODEL_9ee5669e440446c8a3af815ef1b7e8c4",
       "IPY_MODEL_3f0d36d6af9d4a02a8e773910ebb29b3"
      ],
      "layout": "IPY_MODEL_e9a4ee01a8e1470e8b56b56d46d8e58f"
     }
    },
    "2b053ab98c304a37b674a7334b63fefd": {
     "model_module": "@jupyter-widgets/controls",
     "model_name": "DescriptionStyleModel",
     "state": {
      "_model_module": "@jupyter-widgets/controls",
      "_model_module_version": "1.5.0",
      "_model_name": "DescriptionStyleModel",
      "_view_count": null,
      "_view_module": "@jupyter-widgets/base",
      "_view_module_version": "1.2.0",
      "_view_name": "StyleView",
      "description_width": ""
     }
    },
    "2bb03d7a6f5e4dc0b9320c9bdd14cfce": {
     "model_module": "@jupyter-widgets/base",
     "model_name": "LayoutModel",
     "state": {
      "_model_module": "@jupyter-widgets/base",
      "_model_module_version": "1.2.0",
      "_model_name": "LayoutModel",
      "_view_count": null,
      "_view_module": "@jupyter-widgets/base",
      "_view_module_version": "1.2.0",
      "_view_name": "LayoutView",
      "align_content": null,
      "align_items": null,
      "align_self": null,
      "border": null,
      "bottom": null,
      "display": null,
      "flex": null,
      "flex_flow": null,
      "grid_area": null,
      "grid_auto_columns": null,
      "grid_auto_flow": null,
      "grid_auto_rows": null,
      "grid_column": null,
      "grid_gap": null,
      "grid_row": null,
      "grid_template_areas": null,
      "grid_template_columns": null,
      "grid_template_rows": null,
      "height": null,
      "justify_content": null,
      "justify_items": null,
      "left": null,
      "margin": null,
      "max_height": null,
      "max_width": null,
      "min_height": null,
      "min_width": null,
      "object_fit": null,
      "object_position": null,
      "order": null,
      "overflow": null,
      "overflow_x": null,
      "overflow_y": null,
      "padding": null,
      "right": null,
      "top": null,
      "visibility": null,
      "width": null
     }
    },
    "3f0d36d6af9d4a02a8e773910ebb29b3": {
     "model_module": "@jupyter-widgets/controls",
     "model_name": "HTMLModel",
     "state": {
      "_dom_classes": [],
      "_model_module": "@jupyter-widgets/controls",
      "_model_module_version": "1.5.0",
      "_model_name": "HTMLModel",
      "_view_count": null,
      "_view_module": "@jupyter-widgets/controls",
      "_view_module_version": "1.5.0",
      "_view_name": "HTMLView",
      "description": "",
      "description_tooltip": null,
      "layout": "IPY_MODEL_ffb7c573d9b444eb941de057c55ed864",
      "placeholder": "​",
      "style": "IPY_MODEL_2b053ab98c304a37b674a7334b63fefd",
      "value": " 99/99 [00:00&lt;00:00, 1008.08it/s]"
     }
    },
    "4faea2c0ba9d4fd394e253cabfa3d018": {
     "model_module": "@jupyter-widgets/base",
     "model_name": "LayoutModel",
     "state": {
      "_model_module": "@jupyter-widgets/base",
      "_model_module_version": "1.2.0",
      "_model_name": "LayoutModel",
      "_view_count": null,
      "_view_module": "@jupyter-widgets/base",
      "_view_module_version": "1.2.0",
      "_view_name": "LayoutView",
      "align_content": null,
      "align_items": null,
      "align_self": null,
      "border": null,
      "bottom": null,
      "display": null,
      "flex": null,
      "flex_flow": null,
      "grid_area": null,
      "grid_auto_columns": null,
      "grid_auto_flow": null,
      "grid_auto_rows": null,
      "grid_column": null,
      "grid_gap": null,
      "grid_row": null,
      "grid_template_areas": null,
      "grid_template_columns": null,
      "grid_template_rows": null,
      "height": null,
      "justify_content": null,
      "justify_items": null,
      "left": null,
      "margin": null,
      "max_height": null,
      "max_width": null,
      "min_height": null,
      "min_width": null,
      "object_fit": null,
      "object_position": null,
      "order": null,
      "overflow": null,
      "overflow_x": null,
      "overflow_y": null,
      "padding": null,
      "right": null,
      "top": null,
      "visibility": null,
      "width": null
     }
    },
    "5d125c819f264b169680a05fdbf2a372": {
     "model_module": "@jupyter-widgets/controls",
     "model_name": "HTMLModel",
     "state": {
      "_dom_classes": [],
      "_model_module": "@jupyter-widgets/controls",
      "_model_module_version": "1.5.0",
      "_model_name": "HTMLModel",
      "_view_count": null,
      "_view_module": "@jupyter-widgets/controls",
      "_view_module_version": "1.5.0",
      "_view_name": "HTMLView",
      "description": "",
      "description_tooltip": null,
      "layout": "IPY_MODEL_987ae3202bbe45d693aaf45b28df79d9",
      "placeholder": "​",
      "style": "IPY_MODEL_0f334b69675d4676ba0f46c408896a77",
      "value": "100%"
     }
    },
    "61bfdaf3ce274547afcc5d8876c09db8": {
     "model_module": "@jupyter-widgets/controls",
     "model_name": "DescriptionStyleModel",
     "state": {
      "_model_module": "@jupyter-widgets/controls",
      "_model_module_version": "1.5.0",
      "_model_name": "DescriptionStyleModel",
      "_view_count": null,
      "_view_module": "@jupyter-widgets/base",
      "_view_module_version": "1.2.0",
      "_view_name": "StyleView",
      "description_width": ""
     }
    },
    "621277e62a6d4bca8c02820a76d8de0b": {
     "model_module": "@jupyter-widgets/controls",
     "model_name": "ProgressStyleModel",
     "state": {
      "_model_module": "@jupyter-widgets/controls",
      "_model_module_version": "1.5.0",
      "_model_name": "ProgressStyleModel",
      "_view_count": null,
      "_view_module": "@jupyter-widgets/base",
      "_view_module_version": "1.2.0",
      "_view_name": "StyleView",
      "bar_color": null,
      "description_width": ""
     }
    },
    "6949a68124dc499d9fbfa753baf690b0": {
     "model_module": "@jupyter-widgets/controls",
     "model_name": "HTMLModel",
     "state": {
      "_dom_classes": [],
      "_model_module": "@jupyter-widgets/controls",
      "_model_module_version": "1.5.0",
      "_model_name": "HTMLModel",
      "_view_count": null,
      "_view_module": "@jupyter-widgets/controls",
      "_view_module_version": "1.5.0",
      "_view_name": "HTMLView",
      "description": "",
      "description_tooltip": null,
      "layout": "IPY_MODEL_791fa67f05cd476fa1f9b1f5dbe5f695",
      "placeholder": "​",
      "style": "IPY_MODEL_e0ae0518ad9a4579b7a14c0f4af5e795",
      "value": "100%"
     }
    },
    "70db3704ae8c4af0a30b98e17428b082": {
     "model_module": "@jupyter-widgets/controls",
     "model_name": "ProgressStyleModel",
     "state": {
      "_model_module": "@jupyter-widgets/controls",
      "_model_module_version": "1.5.0",
      "_model_name": "ProgressStyleModel",
      "_view_count": null,
      "_view_module": "@jupyter-widgets/base",
      "_view_module_version": "1.2.0",
      "_view_name": "StyleView",
      "bar_color": null,
      "description_width": ""
     }
    },
    "791fa67f05cd476fa1f9b1f5dbe5f695": {
     "model_module": "@jupyter-widgets/base",
     "model_name": "LayoutModel",
     "state": {
      "_model_module": "@jupyter-widgets/base",
      "_model_module_version": "1.2.0",
      "_model_name": "LayoutModel",
      "_view_count": null,
      "_view_module": "@jupyter-widgets/base",
      "_view_module_version": "1.2.0",
      "_view_name": "LayoutView",
      "align_content": null,
      "align_items": null,
      "align_self": null,
      "border": null,
      "bottom": null,
      "display": null,
      "flex": null,
      "flex_flow": null,
      "grid_area": null,
      "grid_auto_columns": null,
      "grid_auto_flow": null,
      "grid_auto_rows": null,
      "grid_column": null,
      "grid_gap": null,
      "grid_row": null,
      "grid_template_areas": null,
      "grid_template_columns": null,
      "grid_template_rows": null,
      "height": null,
      "justify_content": null,
      "justify_items": null,
      "left": null,
      "margin": null,
      "max_height": null,
      "max_width": null,
      "min_height": null,
      "min_width": null,
      "object_fit": null,
      "object_position": null,
      "order": null,
      "overflow": null,
      "overflow_x": null,
      "overflow_y": null,
      "padding": null,
      "right": null,
      "top": null,
      "visibility": null,
      "width": null
     }
    },
    "8c0e739c324342dbac822b2e888ef273": {
     "model_module": "@jupyter-widgets/controls",
     "model_name": "HTMLModel",
     "state": {
      "_dom_classes": [],
      "_model_module": "@jupyter-widgets/controls",
      "_model_module_version": "1.5.0",
      "_model_name": "HTMLModel",
      "_view_count": null,
      "_view_module": "@jupyter-widgets/controls",
      "_view_module_version": "1.5.0",
      "_view_name": "HTMLView",
      "description": "",
      "description_tooltip": null,
      "layout": "IPY_MODEL_0f57e787075348349704b9209cb2ba95",
      "placeholder": "​",
      "style": "IPY_MODEL_61bfdaf3ce274547afcc5d8876c09db8",
      "value": " 170M/170M [00:06&lt;00:00, 28.7MB/s]"
     }
    },
    "9602a55f1f654083be1f11aaaa63c870": {
     "model_module": "@jupyter-widgets/controls",
     "model_name": "DescriptionStyleModel",
     "state": {
      "_model_module": "@jupyter-widgets/controls",
      "_model_module_version": "1.5.0",
      "_model_name": "DescriptionStyleModel",
      "_view_count": null,
      "_view_module": "@jupyter-widgets/base",
      "_view_module_version": "1.2.0",
      "_view_name": "StyleView",
      "description_width": ""
     }
    },
    "987ae3202bbe45d693aaf45b28df79d9": {
     "model_module": "@jupyter-widgets/base",
     "model_name": "LayoutModel",
     "state": {
      "_model_module": "@jupyter-widgets/base",
      "_model_module_version": "1.2.0",
      "_model_name": "LayoutModel",
      "_view_count": null,
      "_view_module": "@jupyter-widgets/base",
      "_view_module_version": "1.2.0",
      "_view_name": "LayoutView",
      "align_content": null,
      "align_items": null,
      "align_self": null,
      "border": null,
      "bottom": null,
      "display": null,
      "flex": null,
      "flex_flow": null,
      "grid_area": null,
      "grid_auto_columns": null,
      "grid_auto_flow": null,
      "grid_auto_rows": null,
      "grid_column": null,
      "grid_gap": null,
      "grid_row": null,
      "grid_template_areas": null,
      "grid_template_columns": null,
      "grid_template_rows": null,
      "height": null,
      "justify_content": null,
      "justify_items": null,
      "left": null,
      "margin": null,
      "max_height": null,
      "max_width": null,
      "min_height": null,
      "min_width": null,
      "object_fit": null,
      "object_position": null,
      "order": null,
      "overflow": null,
      "overflow_x": null,
      "overflow_y": null,
      "padding": null,
      "right": null,
      "top": null,
      "visibility": null,
      "width": null
     }
    },
    "9ee5669e440446c8a3af815ef1b7e8c4": {
     "model_module": "@jupyter-widgets/controls",
     "model_name": "FloatProgressModel",
     "state": {
      "_dom_classes": [],
      "_model_module": "@jupyter-widgets/controls",
      "_model_module_version": "1.5.0",
      "_model_name": "FloatProgressModel",
      "_view_count": null,
      "_view_module": "@jupyter-widgets/controls",
      "_view_module_version": "1.5.0",
      "_view_name": "ProgressView",
      "bar_style": "success",
      "description": "",
      "description_tooltip": null,
      "layout": "IPY_MODEL_2bb03d7a6f5e4dc0b9320c9bdd14cfce",
      "max": 99,
      "min": 0,
      "orientation": "horizontal",
      "style": "IPY_MODEL_1bb8e530df7643b28fbfe1ed8c57bc2f",
      "value": 99
     }
    },
    "b98b3b1d326f4686a11887d34977d453": {
     "model_module": "@jupyter-widgets/controls",
     "model_name": "FloatProgressModel",
     "state": {
      "_dom_classes": [],
      "_model_module": "@jupyter-widgets/controls",
      "_model_module_version": "1.5.0",
      "_model_name": "FloatProgressModel",
      "_view_count": null,
      "_view_module": "@jupyter-widgets/controls",
      "_view_module_version": "1.5.0",
      "_view_name": "ProgressView",
      "bar_style": "success",
      "description": "",
      "description_tooltip": null,
      "layout": "IPY_MODEL_d617f55c2e924cfba55fb9c71b7e92a2",
      "max": 99,
      "min": 0,
      "orientation": "horizontal",
      "style": "IPY_MODEL_70db3704ae8c4af0a30b98e17428b082",
      "value": 99
     }
    },
    "bb9b6f96a06d48d2965c4614e0d61096": {
     "model_module": "@jupyter-widgets/controls",
     "model_name": "FloatProgressModel",
     "state": {
      "_dom_classes": [],
      "_model_module": "@jupyter-widgets/controls",
      "_model_module_version": "1.5.0",
      "_model_name": "FloatProgressModel",
      "_view_count": null,
      "_view_module": "@jupyter-widgets/controls",
      "_view_module_version": "1.5.0",
      "_view_name": "ProgressView",
      "bar_style": "success",
      "description": "",
      "description_tooltip": null,
      "layout": "IPY_MODEL_e2df8e3354744d0e8be8590a408970b1",
      "max": 178090079,
      "min": 0,
      "orientation": "horizontal",
      "style": "IPY_MODEL_621277e62a6d4bca8c02820a76d8de0b",
      "value": 178090079
     }
    },
    "bdcb7ae7c3944de9a1be811b93a8ceb2": {
     "model_module": "@jupyter-widgets/controls",
     "model_name": "HTMLModel",
     "state": {
      "_dom_classes": [],
      "_model_module": "@jupyter-widgets/controls",
      "_model_module_version": "1.5.0",
      "_model_name": "HTMLModel",
      "_view_count": null,
      "_view_module": "@jupyter-widgets/controls",
      "_view_module_version": "1.5.0",
      "_view_name": "HTMLView",
      "description": "",
      "description_tooltip": null,
      "layout": "IPY_MODEL_1faac9767e9040bc8cf88bc40bd86f4f",
      "placeholder": "​",
      "style": "IPY_MODEL_f9ed68d46079433aa7f04f936789187f",
      "value": "100%"
     }
    },
    "c9bb2f0f86b84b5ba69379bad9d69752": {
     "model_module": "@jupyter-widgets/controls",
     "model_name": "HBoxModel",
     "state": {
      "_dom_classes": [],
      "_model_module": "@jupyter-widgets/controls",
      "_model_module_version": "1.5.0",
      "_model_name": "HBoxModel",
      "_view_count": null,
      "_view_module": "@jupyter-widgets/controls",
      "_view_module_version": "1.5.0",
      "_view_name": "HBoxView",
      "box_style": "",
      "children": [
       "IPY_MODEL_bdcb7ae7c3944de9a1be811b93a8ceb2",
       "IPY_MODEL_b98b3b1d326f4686a11887d34977d453",
       "IPY_MODEL_0ebba38a50ba4929a4feb69e21e0fb2c"
      ],
      "layout": "IPY_MODEL_1932d73cf077411d9a9686289b289e70"
     }
    },
    "d617f55c2e924cfba55fb9c71b7e92a2": {
     "model_module": "@jupyter-widgets/base",
     "model_name": "LayoutModel",
     "state": {
      "_model_module": "@jupyter-widgets/base",
      "_model_module_version": "1.2.0",
      "_model_name": "LayoutModel",
      "_view_count": null,
      "_view_module": "@jupyter-widgets/base",
      "_view_module_version": "1.2.0",
      "_view_name": "LayoutView",
      "align_content": null,
      "align_items": null,
      "align_self": null,
      "border": null,
      "bottom": null,
      "display": null,
      "flex": null,
      "flex_flow": null,
      "grid_area": null,
      "grid_auto_columns": null,
      "grid_auto_flow": null,
      "grid_auto_rows": null,
      "grid_column": null,
      "grid_gap": null,
      "grid_row": null,
      "grid_template_areas": null,
      "grid_template_columns": null,
      "grid_template_rows": null,
      "height": null,
      "justify_content": null,
      "justify_items": null,
      "left": null,
      "margin": null,
      "max_height": null,
      "max_width": null,
      "min_height": null,
      "min_width": null,
      "object_fit": null,
      "object_position": null,
      "order": null,
      "overflow": null,
      "overflow_x": null,
      "overflow_y": null,
      "padding": null,
      "right": null,
      "top": null,
      "visibility": null,
      "width": null
     }
    },
    "dc6c9bb8c13e45f6b702592df791fe41": {
     "model_module": "@jupyter-widgets/controls",
     "model_name": "HBoxModel",
     "state": {
      "_dom_classes": [],
      "_model_module": "@jupyter-widgets/controls",
      "_model_module_version": "1.5.0",
      "_model_name": "HBoxModel",
      "_view_count": null,
      "_view_module": "@jupyter-widgets/controls",
      "_view_module_version": "1.5.0",
      "_view_name": "HBoxView",
      "box_style": "",
      "children": [
       "IPY_MODEL_6949a68124dc499d9fbfa753baf690b0",
       "IPY_MODEL_bb9b6f96a06d48d2965c4614e0d61096",
       "IPY_MODEL_8c0e739c324342dbac822b2e888ef273"
      ],
      "layout": "IPY_MODEL_f6237a6554314baf9db2eb41b386fc7b"
     }
    },
    "e0ae0518ad9a4579b7a14c0f4af5e795": {
     "model_module": "@jupyter-widgets/controls",
     "model_name": "DescriptionStyleModel",
     "state": {
      "_model_module": "@jupyter-widgets/controls",
      "_model_module_version": "1.5.0",
      "_model_name": "DescriptionStyleModel",
      "_view_count": null,
      "_view_module": "@jupyter-widgets/base",
      "_view_module_version": "1.2.0",
      "_view_name": "StyleView",
      "description_width": ""
     }
    },
    "e2df8e3354744d0e8be8590a408970b1": {
     "model_module": "@jupyter-widgets/base",
     "model_name": "LayoutModel",
     "state": {
      "_model_module": "@jupyter-widgets/base",
      "_model_module_version": "1.2.0",
      "_model_name": "LayoutModel",
      "_view_count": null,
      "_view_module": "@jupyter-widgets/base",
      "_view_module_version": "1.2.0",
      "_view_name": "LayoutView",
      "align_content": null,
      "align_items": null,
      "align_self": null,
      "border": null,
      "bottom": null,
      "display": null,
      "flex": null,
      "flex_flow": null,
      "grid_area": null,
      "grid_auto_columns": null,
      "grid_auto_flow": null,
      "grid_auto_rows": null,
      "grid_column": null,
      "grid_gap": null,
      "grid_row": null,
      "grid_template_areas": null,
      "grid_template_columns": null,
      "grid_template_rows": null,
      "height": null,
      "justify_content": null,
      "justify_items": null,
      "left": null,
      "margin": null,
      "max_height": null,
      "max_width": null,
      "min_height": null,
      "min_width": null,
      "object_fit": null,
      "object_position": null,
      "order": null,
      "overflow": null,
      "overflow_x": null,
      "overflow_y": null,
      "padding": null,
      "right": null,
      "top": null,
      "visibility": null,
      "width": null
     }
    },
    "e9a4ee01a8e1470e8b56b56d46d8e58f": {
     "model_module": "@jupyter-widgets/base",
     "model_name": "LayoutModel",
     "state": {
      "_model_module": "@jupyter-widgets/base",
      "_model_module_version": "1.2.0",
      "_model_name": "LayoutModel",
      "_view_count": null,
      "_view_module": "@jupyter-widgets/base",
      "_view_module_version": "1.2.0",
      "_view_name": "LayoutView",
      "align_content": null,
      "align_items": null,
      "align_self": null,
      "border": null,
      "bottom": null,
      "display": null,
      "flex": null,
      "flex_flow": null,
      "grid_area": null,
      "grid_auto_columns": null,
      "grid_auto_flow": null,
      "grid_auto_rows": null,
      "grid_column": null,
      "grid_gap": null,
      "grid_row": null,
      "grid_template_areas": null,
      "grid_template_columns": null,
      "grid_template_rows": null,
      "height": null,
      "justify_content": null,
      "justify_items": null,
      "left": null,
      "margin": null,
      "max_height": null,
      "max_width": null,
      "min_height": null,
      "min_width": null,
      "object_fit": null,
      "object_position": null,
      "order": null,
      "overflow": null,
      "overflow_x": null,
      "overflow_y": null,
      "padding": null,
      "right": null,
      "top": null,
      "visibility": null,
      "width": null
     }
    },
    "f6237a6554314baf9db2eb41b386fc7b": {
     "model_module": "@jupyter-widgets/base",
     "model_name": "LayoutModel",
     "state": {
      "_model_module": "@jupyter-widgets/base",
      "_model_module_version": "1.2.0",
      "_model_name": "LayoutModel",
      "_view_count": null,
      "_view_module": "@jupyter-widgets/base",
      "_view_module_version": "1.2.0",
      "_view_name": "LayoutView",
      "align_content": null,
      "align_items": null,
      "align_self": null,
      "border": null,
      "bottom": null,
      "display": null,
      "flex": null,
      "flex_flow": null,
      "grid_area": null,
      "grid_auto_columns": null,
      "grid_auto_flow": null,
      "grid_auto_rows": null,
      "grid_column": null,
      "grid_gap": null,
      "grid_row": null,
      "grid_template_areas": null,
      "grid_template_columns": null,
      "grid_template_rows": null,
      "height": null,
      "justify_content": null,
      "justify_items": null,
      "left": null,
      "margin": null,
      "max_height": null,
      "max_width": null,
      "min_height": null,
      "min_width": null,
      "object_fit": null,
      "object_position": null,
      "order": null,
      "overflow": null,
      "overflow_x": null,
      "overflow_y": null,
      "padding": null,
      "right": null,
      "top": null,
      "visibility": null,
      "width": null
     }
    },
    "f9ed68d46079433aa7f04f936789187f": {
     "model_module": "@jupyter-widgets/controls",
     "model_name": "DescriptionStyleModel",
     "state": {
      "_model_module": "@jupyter-widgets/controls",
      "_model_module_version": "1.5.0",
      "_model_name": "DescriptionStyleModel",
      "_view_count": null,
      "_view_module": "@jupyter-widgets/base",
      "_view_module_version": "1.2.0",
      "_view_name": "StyleView",
      "description_width": ""
     }
    },
    "ffb7c573d9b444eb941de057c55ed864": {
     "model_module": "@jupyter-widgets/base",
     "model_name": "LayoutModel",
     "state": {
      "_model_module": "@jupyter-widgets/base",
      "_model_module_version": "1.2.0",
      "_model_name": "LayoutModel",
      "_view_count": null,
      "_view_module": "@jupyter-widgets/base",
      "_view_module_version": "1.2.0",
      "_view_name": "LayoutView",
      "align_content": null,
      "align_items": null,
      "align_self": null,
      "border": null,
      "bottom": null,
      "display": null,
      "flex": null,
      "flex_flow": null,
      "grid_area": null,
      "grid_auto_columns": null,
      "grid_auto_flow": null,
      "grid_auto_rows": null,
      "grid_column": null,
      "grid_gap": null,
      "grid_row": null,
      "grid_template_areas": null,
      "grid_template_columns": null,
      "grid_template_rows": null,
      "height": null,
      "justify_content": null,
      "justify_items": null,
      "left": null,
      "margin": null,
      "max_height": null,
      "max_width": null,
      "min_height": null,
      "min_width": null,
      "object_fit": null,
      "object_position": null,
      "order": null,
      "overflow": null,
      "overflow_x": null,
      "overflow_y": null,
      "padding": null,
      "right": null,
      "top": null,
      "visibility": null,
      "width": null
     }
    }
   }
  }
 },
 "nbformat": 4,
 "nbformat_minor": 4
}
